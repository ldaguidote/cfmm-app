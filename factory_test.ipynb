{
 "cells": [
  {
   "cell_type": "markdown",
   "metadata": {},
   "source": [
    "# TEST"
   ]
  },
  {
   "cell_type": "code",
   "execution_count": 1,
   "metadata": {},
   "outputs": [],
   "source": [
    "import json\n",
    "import sqlite3\n",
    "import pandas as pd\n",
    "\n",
    "from briefbuilder.components import ReportComponentFactory"
   ]
  },
  {
   "cell_type": "code",
   "execution_count": 2,
   "metadata": {},
   "outputs": [],
   "source": [
    "# initialization functions\n",
    "\n",
    "def get_query_params():\n",
    "    with open('./query_params.json', 'r') as json_file:\n",
    "        query_params = json.load(json_file)\n",
    "    return query_params\n",
    "\n",
    "def get_query_data():\n",
    "    db_path = 'cfmm.db'\n",
    "    conn = sqlite3.connect(db_path)\n",
    "\n",
    "    sql_query = 'SELECT * FROM articles a INNER JOIN bias_rating b ON a.article_url = b.article_url'\n",
    "\n",
    "    conn = sqlite3.connect(db_path)\n",
    "    query_data = pd.read_sql_query(sql_query, conn).drop('article_url', axis='columns')\n",
    "    return query_data\n"
   ]
  },
  {
   "cell_type": "code",
   "execution_count": 3,
   "metadata": {},
   "outputs": [],
   "source": [
    "query_params = get_query_params()\n",
    "query_data = get_query_data()"
   ]
  },
  {
   "cell_type": "code",
   "execution_count": 4,
   "metadata": {},
   "outputs": [
    {
     "name": "stderr",
     "output_type": "stream",
     "text": [
      "c:\\Users\\laguidote\\Documents\\cfmm-app\\.venv\\lib\\site-packages\\plotnine\\ggplot.py:610: PlotnineWarning: Saving 8 x 6 in image.\n",
      "c:\\Users\\laguidote\\Documents\\cfmm-app\\.venv\\lib\\site-packages\\plotnine\\ggplot.py:611: PlotnineWarning: Filename: tmp/bias_rating.png\n",
      "c:\\Users\\laguidote\\Documents\\cfmm-app\\.venv\\lib\\site-packages\\plotnine\\scales\\scale_manual.py:39: PlotnineWarning: The palette of scale_fill_manual can return a maximum of 4 values. 6 were requested from it.\n",
      "c:\\Users\\laguidote\\Documents\\cfmm-app\\.venv\\lib\\site-packages\\plotnine\\scales\\scale_manual.py:39: PlotnineWarning: The palette of scale_fill_manual can return a maximum of 4 values. 6 were requested from it.\n",
      "c:\\Users\\laguidote\\Documents\\cfmm-app\\.venv\\lib\\site-packages\\plotnine\\ggplot.py:610: PlotnineWarning: Saving 8 x 6 in image.\n",
      "c:\\Users\\laguidote\\Documents\\cfmm-app\\.venv\\lib\\site-packages\\plotnine\\ggplot.py:611: PlotnineWarning: Filename: tmp/bias_category.png\n",
      "c:\\Users\\laguidote\\Documents\\cfmm-app\\.venv\\lib\\site-packages\\plotnine\\scales\\scale_manual.py:39: PlotnineWarning: The palette of scale_fill_manual can return a maximum of 5 values. 6 were requested from it.\n",
      "c:\\Users\\laguidote\\Documents\\cfmm-app\\.venv\\lib\\site-packages\\plotnine\\scales\\scale_manual.py:39: PlotnineWarning: The palette of scale_fill_manual can return a maximum of 5 values. 6 were requested from it.\n",
      "c:\\Users\\laguidote\\Documents\\cfmm-app\\data_generator\\statistics.py:124: SettingWithCopyWarning: \n",
      "A value is trying to be set on a copy of a slice from a DataFrame.\n",
      "Try using .loc[row_indexer,col_indexer] = value instead\n",
      "\n",
      "See the caveats in the documentation: https://pandas.pydata.org/pandas-docs/stable/user_guide/indexing.html#returning-a-view-versus-a-copy\n",
      "c:\\Users\\laguidote\\Documents\\cfmm-app\\.venv\\lib\\site-packages\\plotnine\\ggplot.py:610: PlotnineWarning: Saving 8 x 6 in image.\n",
      "c:\\Users\\laguidote\\Documents\\cfmm-app\\.venv\\lib\\site-packages\\plotnine\\ggplot.py:611: PlotnineWarning: Filename: tmp/bias_rating_vs_topics.png\n",
      "c:\\Users\\laguidote\\Documents\\cfmm-app\\data_generator\\statistics.py:124: SettingWithCopyWarning: \n",
      "A value is trying to be set on a copy of a slice from a DataFrame.\n",
      "Try using .loc[row_indexer,col_indexer] = value instead\n",
      "\n",
      "See the caveats in the documentation: https://pandas.pydata.org/pandas-docs/stable/user_guide/indexing.html#returning-a-view-versus-a-copy\n",
      "c:\\Users\\laguidote\\Documents\\cfmm-app\\.venv\\lib\\site-packages\\plotnine\\ggplot.py:610: PlotnineWarning: Saving 8 x 6 in image.\n",
      "c:\\Users\\laguidote\\Documents\\cfmm-app\\.venv\\lib\\site-packages\\plotnine\\ggplot.py:611: PlotnineWarning: Filename: tmp/bias_category_vs_topics.png\n",
      "c:\\Users\\laguidote\\Documents\\cfmm-app\\data_generator\\statistics.py:169: SettingWithCopyWarning: \n",
      "A value is trying to be set on a copy of a slice from a DataFrame.\n",
      "Try using .loc[row_indexer,col_indexer] = value instead\n",
      "\n",
      "See the caveats in the documentation: https://pandas.pydata.org/pandas-docs/stable/user_guide/indexing.html#returning-a-view-versus-a-copy\n",
      "c:\\Users\\laguidote\\Documents\\cfmm-app\\.venv\\lib\\site-packages\\plotnine\\ggplot.py:610: PlotnineWarning: Saving 8 x 6 in image.\n",
      "c:\\Users\\laguidote\\Documents\\cfmm-app\\.venv\\lib\\site-packages\\plotnine\\ggplot.py:611: PlotnineWarning: Filename: tmp/tendency_bias_rating.png\n",
      "c:\\Users\\laguidote\\Documents\\cfmm-app\\.venv\\lib\\site-packages\\mizani\\bounds.py:257: RuntimeWarning: invalid value encountered in cast\n",
      "c:\\Users\\laguidote\\Documents\\cfmm-app\\.venv\\lib\\site-packages\\mizani\\bounds.py:257: RuntimeWarning: invalid value encountered in cast\n",
      "c:\\Users\\laguidote\\Documents\\cfmm-app\\.venv\\lib\\site-packages\\mizani\\bounds.py:257: RuntimeWarning: invalid value encountered in cast\n",
      "c:\\Users\\laguidote\\Documents\\cfmm-app\\.venv\\lib\\site-packages\\mizani\\bounds.py:257: RuntimeWarning: invalid value encountered in cast\n",
      "c:\\Users\\laguidote\\Documents\\cfmm-app\\.venv\\lib\\site-packages\\mizani\\bounds.py:257: RuntimeWarning: invalid value encountered in cast\n",
      "c:\\Users\\laguidote\\Documents\\cfmm-app\\data_generator\\statistics.py:169: SettingWithCopyWarning: \n",
      "A value is trying to be set on a copy of a slice from a DataFrame.\n",
      "Try using .loc[row_indexer,col_indexer] = value instead\n",
      "\n",
      "See the caveats in the documentation: https://pandas.pydata.org/pandas-docs/stable/user_guide/indexing.html#returning-a-view-versus-a-copy\n",
      "c:\\Users\\laguidote\\Documents\\cfmm-app\\.venv\\lib\\site-packages\\plotnine\\ggplot.py:610: PlotnineWarning: Saving 8 x 6 in image.\n",
      "c:\\Users\\laguidote\\Documents\\cfmm-app\\.venv\\lib\\site-packages\\plotnine\\ggplot.py:611: PlotnineWarning: Filename: tmp/tendency_bias_category.png\n",
      "c:\\Users\\laguidote\\Documents\\cfmm-app\\.venv\\lib\\site-packages\\plotnine\\layer.py:344: PlotnineWarning: position_stack : Removed 1 rows containing missing values.\n",
      "c:\\Users\\laguidote\\Documents\\cfmm-app\\.venv\\lib\\site-packages\\mizani\\bounds.py:257: RuntimeWarning: invalid value encountered in cast\n",
      "c:\\Users\\laguidote\\Documents\\cfmm-app\\.venv\\lib\\site-packages\\mizani\\bounds.py:257: RuntimeWarning: invalid value encountered in cast\n",
      "c:\\Users\\laguidote\\Documents\\cfmm-app\\.venv\\lib\\site-packages\\mizani\\bounds.py:257: RuntimeWarning: invalid value encountered in cast\n",
      "c:\\Users\\laguidote\\Documents\\cfmm-app\\.venv\\lib\\site-packages\\plotnine\\layer.py:364: PlotnineWarning: geom_label : Removed 1 rows containing missing values.\n",
      "c:\\Users\\laguidote\\Documents\\cfmm-app\\.venv\\lib\\site-packages\\mizani\\bounds.py:257: RuntimeWarning: invalid value encountered in cast\n",
      "c:\\Users\\laguidote\\Documents\\cfmm-app\\.venv\\lib\\site-packages\\mizani\\bounds.py:257: RuntimeWarning: invalid value encountered in cast\n"
     ]
    }
   ],
   "source": [
    "factory = ReportComponentFactory(query_params, query_data)\n",
    "factory.run()"
   ]
  },
  {
   "cell_type": "code",
   "execution_count": 5,
   "metadata": {},
   "outputs": [
    {
     "data": {
      "text/plain": [
       "{'Methodology': {'title': 'Methodology',\n",
       "  'text': \"This report examines the publications of BBC from October 1, 2018, to September 30, 2019. It draws comparisons with articles from Dailystar and Christiantoday. In our analysis, we focus on various bias categories, including negative behavior, misrepresentation, generalization, due prominence, and imagery and headlines. The topics of interest for this report encompass accidents and natural disasters, business and economy, children and women's rights, crimes and arrests, education, hate speech and discrimination, health, immigration, minorities and human rights, politics, religion, sports culture and entertainment, and terrorism and extremism.\"},\n",
       " 'Case Studies': {'Very Biased': [{'title': \"'It is possible to be Muslim and a lesbian'\",\n",
       "    'bullets': \"The article discusses Miriam's struggles as a Muslim lesbian in a traditional family, highlighting her experiences of fear, rejection, and identity in Saudi Arabia. It presents her journey of hiding her sexuality and subsequent familial conflicts.  \\nThe article earns a very biased rating due to its generalization of Muslims as intolerant toward LGBTQ\"}],\n",
       "  'Biased': [{'title': 'Sri Lanka attacks: What we know about the Easter bombings',\n",
       "    'bullets': \"The article covers the deadly Easter Sunday bombings in Sri Lanka, where suicide bombers attacked churches and hotels, resulting in over 250 fatalities. It details the suspects, the group behind the attacks, and the government's response.  \\nThe article exhibits negative behavior by linking the attack to Islamic ideology, implying that Islam is inherently violent. Misrepresentation is evident as it oversimplifies the attackers' backgrounds by stating they were\"}],\n",
       "  'Misrepresentation': [{'title': 'Sri Lanka attacks: What we know about the Easter bombings',\n",
       "    'bullets': \"The article details the tragic Easter bombings in Sri Lanka, describing how suicide bombers targeted churches and hotels, causing over 250 deaths and numerous injuries. It identifies the attackers and links them to local jihadist groups.  \\nThe article displays negative behavior by directly associating the attackers with Islamic extremism, perpetuating the idea that Islam is inherently violent. Misrepresentation occurs through its failure to contextualize the attackers' motivations beyond their Islamic identity.  \\nBy emphasizing the attackers' connection to ISIS and their backgrounds as\"}],\n",
       "  'Due Prominence': [{'title': \"'It is possible to be Muslim and a lesbian'\",\n",
       "    'bullets': \"The article explores Miriam's journey as a Muslim lesbian, detailing her challenges with familial rejection and cultural expectations in Saudi Arabia. It highlights her struggles to reconcile her identity with her upbringing in a strict Muslim household.  \\nThe article exhibits generalization by implying that all Muslim families react similarly to LGBTQ\"}],\n",
       "  'Negative Behaviour': [{'title': \"'It is possible to be Muslim and a lesbian'\",\n",
       "    'bullets': \"The article narrates Miriam's experiences as a Muslim lesbian facing familial rejection and cultural challenges within a traditional Muslim context. It highlights her struggle to navigate her identity while maintaining relationships with her parents.  \\nThe article demonstrates generalization by painting a picture that suggests all Muslim families react negatively to LGBTQ\"}],\n",
       "  'Generalisation': [{'title': \"'It is possible to be Muslim and a lesbian'\",\n",
       "    'bullets': \"The article recounts Miriam's experiences as a Muslim lesbian, depicting her struggles with identity and acceptance within a restrictive cultural backdrop. It details her challenges in revealing her sexuality to deeply religious parents and the resulting familial fallout.  \\nThe article demonstrates generalization by implying that all Muslim families react similarly to LGBTQ\"}],\n",
       "  'Imagery and Headlines': []},\n",
       " 'Publisher Performance Overview': {'bias_rating': {'title': 'Analysis of Bias Ratings',\n",
       "   'chart_title': \"BBC's Bias Profile: A Mixed Narrative with Minimal Extremes\",\n",
       "   'chart_filepath': 'tmp/bias_rating.png',\n",
       "   'bullets': \"The BBC shows a predominance of neutral reporting with equal counts of unbiased and inconclusive articles.  \\nWhile there are few biased articles, one is rated as very biased, indicating potential for critical examination.  \\nThis dataset highlights the BBC's overall commitment to balanced reporting, despite some isolated instances of bias.\"},\n",
       "  'bias_category': {'title': 'Analysis of Bias Categories',\n",
       "   'chart_title': \"BBC's Bias Profile: Predominantly Negative Behavior with Limited Misrepresentation\",\n",
       "   'chart_filepath': 'tmp/bias_category.png',\n",
       "   'bullets': 'The BBC exhibits a notable count of articles reflecting negative behavior, indicating a tendency to associate Muslims with violence.  \\nProminence issues suggest a failure to adequately represent diverse Muslim perspectives in relevant narratives.  \\nThe presence of generalization and misrepresentation is minimal, indicating a conscious effort towards nuanced reporting.'},\n",
       "  'bias_rating_vs_topics': {'title': 'Analysis of Bias Ratings vs Topics',\n",
       "   'chart_title': \"BBC's Bias Rating: A Landscape of Mixed Perspectives with Focus on Human Rights and Crime\",\n",
       "   'chart_filepath': 'tmp/bias_rating_vs_topics.png',\n",
       "   'bullets': 'The majority of articles are rated as unbiased, indicating a commitment to fair reporting across various topics.  \\nA significant number of negative behavior articles appear, particularly related to crimes and hate speech, suggesting potential biases in portrayal.  \\nDespite some instances of very biased reporting, the minimal count of biased articles reflects an overall effort towards responsible journalism.'},\n",
       "  'bias_category_vs_topics': {'title': 'Analysis of Bias Categories vs Topics',\n",
       "   'chart_title': \"BBC's Bias Profile: Notable Negative Behavior with Challenges in Representation\",\n",
       "   'chart_filepath': 'tmp/bias_category_vs_topics.png',\n",
       "   'bullets': 'The BBC features a high count of negative behavior articles, primarily in crime, indicating a tendency to associate specific narratives with violence and wrongdoing.  \\nMisrepresentation appears across multiple topics, particularly in relation to children’s rights and terrorism, suggesting issues in conveying accurate portrayals.  \\nThe minimal presence of generalization and prominence issues highlights an overall effort to present nuanced perspectives, yet challenges remain in balanced representation.'}},\n",
       " 'Publisher Comparison': {'tendency_bias_rating': {'title': \"Analyzing Publisher's Tendency to Commit Bias\",\n",
       "   'chart_title': \"BBC's Bias Tendency: Moderate Risk of Biased Reporting with Strict Challenges\",\n",
       "   'chart_filepath': 'tmp/tendency_bias_rating.png',\n",
       "   'bullets': 'The odds ratio for biased and very biased articles indicates a 1.8 times higher tendency for bias compared to peers, suggesting vulnerability in reporting.  \\nWhile the p-values signal statistical insignificance, the inf ratio for very biased articles highlights isolated yet critical concerns requiring scrutiny.  \\nThe presence of a significant number of neutral articles indicates an overall balanced approach, tempered by occasional biases in sensitive topics.'},\n",
       "  'tendency_bias_category': {'title': \"Analyzing Publisher's Tendency to Commit Certain Biases (by Category)\",\n",
       "   'chart_title': \"BBC's Bias Profile: Elevated Risk of Negative Behavior and Prominence Issues\",\n",
       "   'chart_filepath': 'tmp/tendency_bias_category.png',\n",
       "   'bullets': 'The odds ratio indicates a significant tendency towards negative behavior, suggesting a pattern of reporting that associates Muslims with violence more frequently than peers.  \\nProminence issues also register with a high odds ratio, implying a lack of representation for diverse Muslim perspectives in relevant narratives.  \\nWhile generalization and misrepresentation rates are low, their presence signifies the need for continuous vigilance in balanced reporting.'}},\n",
       " 'Conclusions': {'title': 'Conclusions',\n",
       "  'text': 'The BBC generally maintains a balanced bias profile with a high count of unbiased articles relative to its peers, showcasing its commitment to responsible journalism amid occasional lapses.  \\nNotable instances of negative behavior reporting are concerning, particularly their association of Islam with violence, which can foster harmful stereotypes and contribute to public misunderstanding of Muslim communities.  \\nProminence issues indicate a significant gap in representation for Muslim voices, particularly in narratives surrounding human rights and identity, limiting the diversity of perspectives offered to audiences.  \\nThis analysis is crucial as it highlights the impact of media representation on societal perceptions of Muslims, emphasizing the need for continuous scrutiny in news reporting to combat biases and promote understanding.'},\n",
       " 'Key Findings': {'title': 'Key Findings',\n",
       "  'text': 'The BBC exhibits a predominantly neutral bias profile with isolated instances of negative behavior towards Muslims.  \\nProminence issues reveal underrepresentation of diverse Muslim voices in key narratives.  \\nOngoing scrutiny is essential to mitigate bias and enhance media integrity.'}}"
      ]
     },
     "execution_count": 5,
     "metadata": {},
     "output_type": "execute_result"
    }
   ],
   "source": [
    "factory.results"
   ]
  }
 ],
 "metadata": {
  "kernelspec": {
   "display_name": ".venv",
   "language": "python",
   "name": "python3"
  },
  "language_info": {
   "codemirror_mode": {
    "name": "ipython",
    "version": 3
   },
   "file_extension": ".py",
   "mimetype": "text/x-python",
   "name": "python",
   "nbconvert_exporter": "python",
   "pygments_lexer": "ipython3",
   "version": "3.10.9"
  }
 },
 "nbformat": 4,
 "nbformat_minor": 2
}
