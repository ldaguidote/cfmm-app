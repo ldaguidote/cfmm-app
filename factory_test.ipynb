{
 "cells": [
  {
   "cell_type": "markdown",
   "metadata": {},
   "source": [
    "# TEST"
   ]
  },
  {
   "cell_type": "code",
   "execution_count": 1,
   "metadata": {},
   "outputs": [],
   "source": [
    "import json\n",
    "import sqlite3\n",
    "import pandas as pd\n",
    "\n",
    "from briefbuilder.components import *\n",
    "\n",
    "pd.set_option('display.max_columns', None)"
   ]
  },
  {
   "cell_type": "code",
   "execution_count": 2,
   "metadata": {},
   "outputs": [],
   "source": [
    "# initialization functions\n",
    "\n",
    "def get_query_params():\n",
    "    with open('./query_params.json', 'r') as json_file:\n",
    "        query_params = json.load(json_file)\n",
    "    return query_params\n",
    "\n",
    "def get_query_data():\n",
    "\n",
    "    # Connect to the new database\n",
    "    db_path = 'new_cfmm_db.db'\n",
    "    conn = sqlite3.connect(db_path)\n",
    "   \n",
    "    # Revised query based on new database\n",
    "    sql_query = \"\"\"\n",
    "        SELECT a.article_id,\n",
    "               a.publish_date,\n",
    "               a.url,\n",
    "               a.publisher,\n",
    "               a.headline,\n",
    "               a.created_at,\n",
    "               a.location,\n",
    "               aa.negative_aspects_tag AS negative_aspects,\n",
    "               aa.negative_aspects AS negative_aspects_score,\n",
    "               aa.negative_aspects_analysis,\n",
    "               aa.generalization_tag AS generalisation,\n",
    "               aa.generalization AS generalisation_score,\n",
    "               aa.generalization_analysis AS generalisation_analysis,\n",
    "               aa.omit_due_prominence_tag AS omit_due_prominence,\n",
    "               aa.omit_due_prominence AS omit_due_prominence_score,\n",
    "               aa.omit_due_prominence_analysis,\n",
    "               aa.headline_bias_tag AS headline_bias,\n",
    "               aa.headline_bias AS headline_bias_score,\n",
    "               aa.headline_bias_analysis,\n",
    "               aa.misrepresentation_tag AS misrepresentation,\n",
    "               aa.misrepresentation AS misrepresentation_score,\n",
    "               aa.misrepresentation_analysis,\n",
    "               aa.is_current,\n",
    "               aa.bias_rating,\n",
    "               tl.topic_name\n",
    "        FROM articles a \n",
    "        LEFT JOIN article_analyses aa on a.article_id = aa.article_id\n",
    "        LEFT JOIN topic_list tl on a.article_id = tl.article_id\n",
    "        \"\"\"\n",
    "   \n",
    "    conn = sqlite3.connect(db_path)\n",
    "    query_data = pd.read_sql_query(sql_query, conn)#.drop('article_url', axis='columns')\n",
    "    return query_data\n",
    "\n",
    "\n",
    "def get_old_query_data():\n",
    "    db_path = 'cfmm.db'\n",
    "    conn = sqlite3.connect(db_path)\n",
    "    sql_query = 'SELECT * FROM articles a INNER JOIN bias_rating b ON a.article_url = b.article_url'\n",
    "    query_data = pd.read_sql_query(sql_query, conn)\n",
    "    return query_data\n"
   ]
  },
  {
   "cell_type": "code",
   "execution_count": 3,
   "metadata": {},
   "outputs": [],
   "source": [
    "query_params = get_query_params()\n",
    "query_data = get_query_data()"
   ]
  },
  {
   "cell_type": "code",
   "execution_count": 11,
   "metadata": {},
   "outputs": [
    {
     "data": {
      "text/html": [
       "<div>\n",
       "<style scoped>\n",
       "    .dataframe tbody tr th:only-of-type {\n",
       "        vertical-align: middle;\n",
       "    }\n",
       "\n",
       "    .dataframe tbody tr th {\n",
       "        vertical-align: top;\n",
       "    }\n",
       "\n",
       "    .dataframe thead th {\n",
       "        text-align: right;\n",
       "    }\n",
       "</style>\n",
       "<table border=\"1\" class=\"dataframe\">\n",
       "  <thead>\n",
       "    <tr style=\"text-align: right;\">\n",
       "      <th></th>\n",
       "      <th>min_date</th>\n",
       "      <th>max_date</th>\n",
       "    </tr>\n",
       "  </thead>\n",
       "  <tbody>\n",
       "    <tr>\n",
       "      <th>0</th>\n",
       "      <td>7/10/2024</td>\n",
       "      <td>7/9/2024</td>\n",
       "    </tr>\n",
       "  </tbody>\n",
       "</table>\n",
       "</div>"
      ],
      "text/plain": [
       "    min_date  max_date\n",
       "0  7/10/2024  7/9/2024"
      ]
     },
     "execution_count": 11,
     "metadata": {},
     "output_type": "execute_result"
    }
   ],
   "source": [
    "sql_query = 'SELECT MIN(publish_date) min_date, MAX(publish_date) max_date FROM articles'\n",
    "db_path = 'new_cfmm_db.db'\n",
    "conn = sqlite3.connect(db_path)\n",
    "pd.read_sql_query(sql_query, conn)"
   ]
  },
  {
   "cell_type": "markdown",
   "metadata": {},
   "source": []
  },
  {
   "cell_type": "code",
   "execution_count": 14,
   "metadata": {},
   "outputs": [
    {
     "ename": "AttributeError",
     "evalue": "Can only use .dt accessor with datetimelike values",
     "output_type": "error",
     "traceback": [
      "\u001b[1;31m---------------------------------------------------------------------------\u001b[0m",
      "\u001b[1;31mAttributeError\u001b[0m                            Traceback (most recent call last)",
      "Cell \u001b[1;32mIn[14], line 1\u001b[0m\n\u001b[1;32m----> 1\u001b[0m query_data[\u001b[38;5;124m'\u001b[39m\u001b[38;5;124mpublish_date\u001b[39m\u001b[38;5;124m'\u001b[39m] \u001b[38;5;241m=\u001b[39m pd\u001b[38;5;241m.\u001b[39mto_datetime(\u001b[43mquery_data\u001b[49m\u001b[43m[\u001b[49m\u001b[38;5;124;43m'\u001b[39;49m\u001b[38;5;124;43mpublish_date\u001b[39;49m\u001b[38;5;124;43m'\u001b[39;49m\u001b[43m]\u001b[49m\u001b[38;5;241;43m.\u001b[39;49m\u001b[43mdt\u001b[49m\u001b[38;5;241m.\u001b[39mstrftime(\u001b[38;5;124m'\u001b[39m\u001b[38;5;124m%\u001b[39m\u001b[38;5;124mY-\u001b[39m\u001b[38;5;124m%\u001b[39m\u001b[38;5;124mm-\u001b[39m\u001b[38;5;132;01m%d\u001b[39;00m\u001b[38;5;124m'\u001b[39m))\n\u001b[0;32m      2\u001b[0m query_data\n",
      "File \u001b[1;32mc:\\Users\\Amos\\AppData\\Local\\Programs\\Python\\Python39\\lib\\site-packages\\pandas\\core\\generic.py:6296\u001b[0m, in \u001b[0;36mNDFrame.__getattr__\u001b[1;34m(self, name)\u001b[0m\n\u001b[0;32m   6289\u001b[0m \u001b[38;5;28;01mif\u001b[39;00m (\n\u001b[0;32m   6290\u001b[0m     name \u001b[38;5;129;01mnot\u001b[39;00m \u001b[38;5;129;01min\u001b[39;00m \u001b[38;5;28mself\u001b[39m\u001b[38;5;241m.\u001b[39m_internal_names_set\n\u001b[0;32m   6291\u001b[0m     \u001b[38;5;129;01mand\u001b[39;00m name \u001b[38;5;129;01mnot\u001b[39;00m \u001b[38;5;129;01min\u001b[39;00m \u001b[38;5;28mself\u001b[39m\u001b[38;5;241m.\u001b[39m_metadata\n\u001b[0;32m   6292\u001b[0m     \u001b[38;5;129;01mand\u001b[39;00m name \u001b[38;5;129;01mnot\u001b[39;00m \u001b[38;5;129;01min\u001b[39;00m \u001b[38;5;28mself\u001b[39m\u001b[38;5;241m.\u001b[39m_accessors\n\u001b[0;32m   6293\u001b[0m     \u001b[38;5;129;01mand\u001b[39;00m \u001b[38;5;28mself\u001b[39m\u001b[38;5;241m.\u001b[39m_info_axis\u001b[38;5;241m.\u001b[39m_can_hold_identifiers_and_holds_name(name)\n\u001b[0;32m   6294\u001b[0m ):\n\u001b[0;32m   6295\u001b[0m     \u001b[38;5;28;01mreturn\u001b[39;00m \u001b[38;5;28mself\u001b[39m[name]\n\u001b[1;32m-> 6296\u001b[0m \u001b[38;5;28;01mreturn\u001b[39;00m \u001b[38;5;28;43mobject\u001b[39;49m\u001b[38;5;241;43m.\u001b[39;49m\u001b[38;5;21;43m__getattribute__\u001b[39;49m\u001b[43m(\u001b[49m\u001b[38;5;28;43mself\u001b[39;49m\u001b[43m,\u001b[49m\u001b[43m \u001b[49m\u001b[43mname\u001b[49m\u001b[43m)\u001b[49m\n",
      "File \u001b[1;32mc:\\Users\\Amos\\AppData\\Local\\Programs\\Python\\Python39\\lib\\site-packages\\pandas\\core\\accessor.py:224\u001b[0m, in \u001b[0;36mCachedAccessor.__get__\u001b[1;34m(self, obj, cls)\u001b[0m\n\u001b[0;32m    221\u001b[0m \u001b[38;5;28;01mif\u001b[39;00m obj \u001b[38;5;129;01mis\u001b[39;00m \u001b[38;5;28;01mNone\u001b[39;00m:\n\u001b[0;32m    222\u001b[0m     \u001b[38;5;66;03m# we're accessing the attribute of the class, i.e., Dataset.geo\u001b[39;00m\n\u001b[0;32m    223\u001b[0m     \u001b[38;5;28;01mreturn\u001b[39;00m \u001b[38;5;28mself\u001b[39m\u001b[38;5;241m.\u001b[39m_accessor\n\u001b[1;32m--> 224\u001b[0m accessor_obj \u001b[38;5;241m=\u001b[39m \u001b[38;5;28;43mself\u001b[39;49m\u001b[38;5;241;43m.\u001b[39;49m\u001b[43m_accessor\u001b[49m\u001b[43m(\u001b[49m\u001b[43mobj\u001b[49m\u001b[43m)\u001b[49m\n\u001b[0;32m    225\u001b[0m \u001b[38;5;66;03m# Replace the property with the accessor object. Inspired by:\u001b[39;00m\n\u001b[0;32m    226\u001b[0m \u001b[38;5;66;03m# https://www.pydanny.com/cached-property.html\u001b[39;00m\n\u001b[0;32m    227\u001b[0m \u001b[38;5;66;03m# We need to use object.__setattr__ because we overwrite __setattr__ on\u001b[39;00m\n\u001b[0;32m    228\u001b[0m \u001b[38;5;66;03m# NDFrame\u001b[39;00m\n\u001b[0;32m    229\u001b[0m \u001b[38;5;28mobject\u001b[39m\u001b[38;5;241m.\u001b[39m\u001b[38;5;21m__setattr__\u001b[39m(obj, \u001b[38;5;28mself\u001b[39m\u001b[38;5;241m.\u001b[39m_name, accessor_obj)\n",
      "File \u001b[1;32mc:\\Users\\Amos\\AppData\\Local\\Programs\\Python\\Python39\\lib\\site-packages\\pandas\\core\\indexes\\accessors.py:643\u001b[0m, in \u001b[0;36mCombinedDatetimelikeProperties.__new__\u001b[1;34m(cls, data)\u001b[0m\n\u001b[0;32m    640\u001b[0m \u001b[38;5;28;01melif\u001b[39;00m \u001b[38;5;28misinstance\u001b[39m(data\u001b[38;5;241m.\u001b[39mdtype, PeriodDtype):\n\u001b[0;32m    641\u001b[0m     \u001b[38;5;28;01mreturn\u001b[39;00m PeriodProperties(data, orig)\n\u001b[1;32m--> 643\u001b[0m \u001b[38;5;28;01mraise\u001b[39;00m \u001b[38;5;167;01mAttributeError\u001b[39;00m(\u001b[38;5;124m\"\u001b[39m\u001b[38;5;124mCan only use .dt accessor with datetimelike values\u001b[39m\u001b[38;5;124m\"\u001b[39m)\n",
      "\u001b[1;31mAttributeError\u001b[0m: Can only use .dt accessor with datetimelike values"
     ]
    }
   ],
   "source": [
    "query_data['publish_date'] = pd.to_datetime(query_data['publish_date'])\n",
    "query_data['publish_date'] = query_data['publish_date'].dt.strftime('%Y-%m-%d')\n",
    "query_data['publish_date'] = pd.\n",
    "query_data"
   ]
  },
  {
   "cell_type": "code",
   "execution_count": null,
   "metadata": {},
   "outputs": [],
   "source": []
  },
  {
   "cell_type": "markdown",
   "metadata": {},
   "source": [
    "## Report Component Factory Object Tests"
   ]
  },
  {
   "cell_type": "code",
   "execution_count": 4,
   "metadata": {},
   "outputs": [
    {
     "name": "stdout",
     "output_type": "stream",
     "text": [
      "['More than 150 children subject of court proceedings amid radicalisation fears']\n",
      "['Repression risks fuelling Egypt instability, analysts warn']\n",
      "[\"Cop made 'rape call' to Hanson-Young\"]\n",
      "['Asia Bibi Pakistani Christian woman in limbo after blasphemy verdict']\n",
      "['Fake images of woman acquitted of blasphemy roil Pakistan']\n",
      "[\"Indonesia's Aceh whips men for sharia-banned gambling\"]\n",
      "['More than 150 children subject of court proceedings amid radicalisation fears']\n",
      "['Repression risks fuelling Egypt instability, analysts warn']\n",
      "[\"Cop made 'rape call' to Hanson-Young\"]\n",
      "['Asia Bibi Pakistani Christian woman in limbo after blasphemy verdict']\n",
      "[\"Indonesia's Aceh whips men for sharia-banned gambling\"]\n",
      "['More than 150 children subject of court proceedings amid radicalisation fears']\n",
      "['Repression risks fuelling Egypt instability, analysts warn']\n",
      "[\"Cop made 'rape call' to Hanson-Young\"]\n",
      "['Asia Bibi Pakistani Christian woman in limbo after blasphemy verdict']\n",
      "[\"Indonesia's Aceh whips men for sharia-banned gambling\"]\n",
      "['More than 150 children subject of court proceedings amid radicalisation fears']\n",
      "['Repression risks fuelling Egypt instability, analysts warn']\n",
      "[\"Cop made 'rape call' to Hanson-Young\"]\n",
      "['Asia Bibi Pakistani Christian woman in limbo after blasphemy verdict']\n",
      "[\"Indonesia's Aceh whips men for sharia-banned gambling\"]\n",
      "[\"'We're just doing what God told us' ISIS fanatic explains why he wants to kill Australians - as brave Aussie troops hold back the terror group in the Philippines\"]\n",
      "[\"Council of Europe warns Britain sharia law conflicts with universal human rights and says it is 'greatly concerned' by its recognition in the UK\"]\n",
      "[\"Terror planner only backs 'good' al-Qaeda\"]\n",
      "[\"'Something's wrong here' Broadcaster Alan Jones slams security agencies for failing to stop Melbourne terrorist - despite spending millions monitoring extremists on watch list\"]\n"
     ]
    },
    {
     "name": "stderr",
     "output_type": "stream",
     "text": [
      "c:\\Users\\laguidote\\Documents\\cfmm-app\\data_generator\\statistics.py:122: SettingWithCopyWarning: \n",
      "A value is trying to be set on a copy of a slice from a DataFrame.\n",
      "Try using .loc[row_indexer,col_indexer] = value instead\n",
      "\n",
      "See the caveats in the documentation: https://pandas.pydata.org/pandas-docs/stable/user_guide/indexing.html#returning-a-view-versus-a-copy\n",
      "c:\\Users\\laguidote\\Documents\\cfmm-app\\data_generator\\statistics.py:123: FutureWarning: The default of observed=False is deprecated and will be changed to True in a future version of pandas. Pass observed=False to retain current behavior or observed=True to adopt the future default and silence this warning.\n",
      "c:\\Users\\laguidote\\Documents\\cfmm-app\\data_generator\\charts.py:101: FutureWarning: The behavior of DataFrame concatenation with empty or all-NA entries is deprecated. In a future version, this will no longer exclude empty or all-NA columns when determining the result dtypes. To retain the old behavior, exclude the relevant entries before the concat operation.\n",
      "c:\\Users\\laguidote\\Documents\\cfmm-app\\.venv\\lib\\site-packages\\plotnine\\ggplot.py:610: PlotnineWarning: Saving 8 x 6 in image.\n",
      "c:\\Users\\laguidote\\Documents\\cfmm-app\\.venv\\lib\\site-packages\\plotnine\\ggplot.py:611: PlotnineWarning: Filename: tmp/bias_rating.png\n",
      "c:\\Users\\laguidote\\Documents\\cfmm-app\\.venv\\lib\\site-packages\\plotnine\\scales\\scale_manual.py:39: PlotnineWarning: The palette of scale_fill_manual can return a maximum of 4 values. 6 were requested from it.\n",
      "c:\\Users\\laguidote\\Documents\\cfmm-app\\.venv\\lib\\site-packages\\plotnine\\scales\\scale_manual.py:39: PlotnineWarning: The palette of scale_fill_manual can return a maximum of 4 values. 6 were requested from it.\n",
      "c:\\Users\\laguidote\\Documents\\cfmm-app\\data_generator\\statistics.py:141: FutureWarning: The default of observed=False is deprecated and will be changed to True in a future version of pandas. Pass observed=False to retain current behavior or observed=True to adopt the future default and silence this warning.\n",
      "c:\\Users\\laguidote\\Documents\\cfmm-app\\data_generator\\charts.py:101: FutureWarning: The behavior of DataFrame concatenation with empty or all-NA entries is deprecated. In a future version, this will no longer exclude empty or all-NA columns when determining the result dtypes. To retain the old behavior, exclude the relevant entries before the concat operation.\n",
      "c:\\Users\\laguidote\\Documents\\cfmm-app\\.venv\\lib\\site-packages\\plotnine\\ggplot.py:610: PlotnineWarning: Saving 8 x 6 in image.\n",
      "c:\\Users\\laguidote\\Documents\\cfmm-app\\.venv\\lib\\site-packages\\plotnine\\ggplot.py:611: PlotnineWarning: Filename: tmp/bias_category.png\n",
      "c:\\Users\\laguidote\\Documents\\cfmm-app\\.venv\\lib\\site-packages\\plotnine\\scales\\scale_manual.py:39: PlotnineWarning: The palette of scale_fill_manual can return a maximum of 5 values. 6 were requested from it.\n",
      "c:\\Users\\laguidote\\Documents\\cfmm-app\\.venv\\lib\\site-packages\\plotnine\\scales\\scale_manual.py:39: PlotnineWarning: The palette of scale_fill_manual can return a maximum of 5 values. 6 were requested from it.\n",
      "c:\\Users\\laguidote\\Documents\\cfmm-app\\.venv\\lib\\site-packages\\plotnine\\ggplot.py:610: PlotnineWarning: Saving 8 x 6 in image.\n",
      "c:\\Users\\laguidote\\Documents\\cfmm-app\\.venv\\lib\\site-packages\\plotnine\\ggplot.py:611: PlotnineWarning: Filename: tmp/bias_rating_vs_topics.png\n",
      "c:\\Users\\laguidote\\Documents\\cfmm-app\\.venv\\lib\\site-packages\\plotnine\\ggplot.py:610: PlotnineWarning: Saving 8 x 6 in image.\n",
      "c:\\Users\\laguidote\\Documents\\cfmm-app\\.venv\\lib\\site-packages\\plotnine\\ggplot.py:611: PlotnineWarning: Filename: tmp/bias_category_vs_topics.png\n",
      "c:\\Users\\laguidote\\Documents\\cfmm-app\\data_generator\\statistics.py:122: SettingWithCopyWarning: \n",
      "A value is trying to be set on a copy of a slice from a DataFrame.\n",
      "Try using .loc[row_indexer,col_indexer] = value instead\n",
      "\n",
      "See the caveats in the documentation: https://pandas.pydata.org/pandas-docs/stable/user_guide/indexing.html#returning-a-view-versus-a-copy\n",
      "c:\\Users\\laguidote\\Documents\\cfmm-app\\data_generator\\statistics.py:123: FutureWarning: The default of observed=False is deprecated and will be changed to True in a future version of pandas. Pass observed=False to retain current behavior or observed=True to adopt the future default and silence this warning.\n",
      "c:\\Users\\laguidote\\Documents\\cfmm-app\\data_generator\\statistics.py:122: SettingWithCopyWarning: \n",
      "A value is trying to be set on a copy of a slice from a DataFrame.\n",
      "Try using .loc[row_indexer,col_indexer] = value instead\n",
      "\n",
      "See the caveats in the documentation: https://pandas.pydata.org/pandas-docs/stable/user_guide/indexing.html#returning-a-view-versus-a-copy\n",
      "c:\\Users\\laguidote\\Documents\\cfmm-app\\data_generator\\statistics.py:123: FutureWarning: The default of observed=False is deprecated and will be changed to True in a future version of pandas. Pass observed=False to retain current behavior or observed=True to adopt the future default and silence this warning.\n",
      "c:\\Users\\laguidote\\Documents\\cfmm-app\\.venv\\lib\\site-packages\\plotnine\\ggplot.py:610: PlotnineWarning: Saving 8 x 6 in image.\n",
      "c:\\Users\\laguidote\\Documents\\cfmm-app\\.venv\\lib\\site-packages\\plotnine\\ggplot.py:611: PlotnineWarning: Filename: tmp/bias_rating_comparison.png\n",
      "c:\\Users\\laguidote\\Documents\\cfmm-app\\data_generator\\statistics.py:141: FutureWarning: The default of observed=False is deprecated and will be changed to True in a future version of pandas. Pass observed=False to retain current behavior or observed=True to adopt the future default and silence this warning.\n",
      "c:\\Users\\laguidote\\Documents\\cfmm-app\\data_generator\\statistics.py:141: FutureWarning: The default of observed=False is deprecated and will be changed to True in a future version of pandas. Pass observed=False to retain current behavior or observed=True to adopt the future default and silence this warning.\n",
      "c:\\Users\\laguidote\\Documents\\cfmm-app\\llm_generator\\fr_generator.py:57: FutureWarning: The default of observed=False is deprecated and will be changed to True in a future version of pandas. Pass observed=False to retain current behavior or observed=True to adopt the future default and silence this warning.\n",
      "c:\\Users\\laguidote\\Documents\\cfmm-app\\.venv\\lib\\site-packages\\plotnine\\ggplot.py:610: PlotnineWarning: Saving 8 x 6 in image.\n",
      "c:\\Users\\laguidote\\Documents\\cfmm-app\\.venv\\lib\\site-packages\\plotnine\\ggplot.py:611: PlotnineWarning: Filename: tmp/bias_category_comparison.png\n"
     ]
    }
   ],
   "source": [
    "factory = ReportComponentFactory(query_params, query_data)\n",
    "factory.run()"
   ]
  },
  {
   "cell_type": "markdown",
   "metadata": {},
   "source": [
    "## Parsing the Report Component Factory Results"
   ]
  },
  {
   "cell_type": "markdown",
   "metadata": {},
   "source": [
    "### 1. **Report Parameters**"
   ]
  },
  {
   "cell_type": "code",
   "execution_count": 5,
   "metadata": {},
   "outputs": [
    {
     "data": {
      "text/plain": [
       "{'title': 'Report Parameters',\n",
       " 'text': \"Publisher in Focus: Daily Mail\\nPublisher Comparison: \\n\\tChristian Today\\n\\tThe Times\\n\\tThe Independent\\nReport Coverage Dates: 03 October 2018 to 30 January 2025\\nTopics: \\n\\tAccidents and Natural Disasters\\n\\tBusiness and Economy\\n\\tWomen's and Children's Rights\\n\\tCrimes and Arrests\\n\\tEducation\\n\\tHate Speech and Discrimination\\n\\tHealth\\n\\tImmigration\\n\\tMinorities and Human Rights\\n\\tPolitics\\n\\tReligion\\n\\tSports, Culture, and Entertainment\\n\\tTerrorism and Extremism\"}"
      ]
     },
     "execution_count": 5,
     "metadata": {},
     "output_type": "execute_result"
    }
   ],
   "source": [
    "factory.results['Report Parameters']"
   ]
  },
  {
   "cell_type": "markdown",
   "metadata": {},
   "source": [
    "### 2. **Case Studies**\n",
    "\n",
    "#### 2.1. Misrepresentation"
   ]
  },
  {
   "cell_type": "code",
   "execution_count": 6,
   "metadata": {},
   "outputs": [
    {
     "data": {
      "text/plain": [
       "[{'title': 'More than 150 children subject of court proceedings amid radicalisation fears',\n",
       "  'bullets': 'The article examines the difficulties family courts in the UK face regarding children suspected of radicalisation, highlighting significant challenges but also containing generalizations that may misrepresent Muslims and Islam. It suggests the need for a more nuanced understanding of the issue beyond the immediate concerns.  \\n\\nThe analysis reveals that the article propagates stereotypes through its partiality, particularly in its portrayal of gender dynamics in radicalisation. The lack of Muslim voices further intensifies this misrepresentation, leading to a narrow view that does not adequately represent the complexity of the subject.  \\n\\nAn instance illustrating this bias is when the article states that girls are more independent in seeking extremist material compared to boys, thereby oversimplifying radicalisation and overlooking the diverse influences on both genders. This approach reinforces harmful stereotypes about Muslim communities and fails to offer a more complete narrative.'},\n",
       " {'title': 'Repression risks fuelling Egypt instability, analysts warn',\n",
       "  'bullets': \"The article examines recent protests in Egypt and the government's repressive measures, raising concerns about the potential for instability. While it strives to maintain a balanced narrative, the piece features generalizations and omissions that may inadvertently influence perceptions of Muslims and Islam in the Egyptian context.  \\n\\nAlthough there are no direct misrepresentations, the article does display subtle biases, particularly through generalisations regarding the Muslim Brotherhood. The absence of diverse Muslim perspectives limits the depth of understanding about the political unrest and fails to address the spectrum of views within Muslim communities during such unrest.  \\n\\nFor example, the article could benefit from providing additional context on the Muslim Brotherhood's political ideology and its socio-political role, which would contribute to a more informed discussion. This is essential in avoiding oversimplifications that may shape public perceptions of Muslims in Egypt.\"},\n",
       " {'title': \"Cop made 'rape call' to Hanson-Young\",\n",
       "  'bullets': 'The article details an insulting and threatening phone call received by Senator Sarah Hanson-Young from a police officer, during which an Islamophobic comment was made. Although the report fundamentally focuses on the harassment incident, it includes a problematic quote that misrepresents Islamic teachings and fails to clarify its inaccuracy.  \\n\\nWhile the article primarily delivers factual information about the harassment, the inclusion of the offensive remark, devoid of contextual correction, represents a significant misrepresentation of Islamic principles. This misrepresentation is troubling as it perpetuates harmful stereotypes and emphasizes the perpetrator’s issues rather than confronting the prejudice expressed.  \\n\\nFor instance, the quote claiming that Islam permits inappropriate relations with minors starkly misrepresents Islamic teachings, conflating cultural practices with religious doctrine. The article’s failure to properly address this misinformation exacerbates its potential impact on public understanding of Islam, calling for a more conscientious reporting standard.'},\n",
       " {'title': 'Asia Bibi Pakistani Christian woman in limbo after blasphemy verdict',\n",
       "  'bullets': 'The article covers the case of Asia Bibi, a Christian woman in Pakistan who was acquitted of blasphemy charges, and explores the societal reactions to her release. While the tone remains neutral, the piece contains generalisations that may inadvertently reinforce stereotypes about Muslims and Islam, particularly concerning blasphemy laws.  \\n\\nThough the article presents a mostly balanced narrative, the use of terms like \"Islamist hardliners\" without adequate context can mischaracterise groups and perpetuate stigma. Such language risks conflating political Islam with extremist behaviour, thereby oversimplifying the complexities of the cultural and religious landscape surrounding blasphemy issues.  \\n\\nFor example, describing the protesters as \"Islamist hardliners\" lacks clarity and nuance, potentially fostering negative stereotypes about Muslims as a whole. Including contextual definitions and highlighting diverse Muslim perspectives on blasphemy would strengthen the article\\'s credibility and ensure a more informed discussion on this sensitive topic.'},\n",
       " {'title': 'Fake images of woman acquitted of blasphemy roil Pakistan',\n",
       "  'bullets': 'The article focuses on the spread of fake images related to Aasia Bibi\\'s blasphemy case in Pakistan, providing context about the sensitive nature of blasphemy issues in the country. Despite delivering relevant information, the article includes generalisations that may misrepresent Muslims and lacks a diversity of perspectives that would enrich the narrative.  \\n\\nWhile the article aims to contextualise the blasphemy issue, terms like \"radical Islamists\" are used without sufficient definition, which risks oversimplifying the complexities surrounding the topic. Additionally, the framing of blasphemy-related violence could imply that all Muslims respond violently to allegations, a misrepresentation that does not reflect the diversity of opinions within the community.  \\n\\nFor instance, the statement indicating that blasphemy allegations can incite \"mobs into a frenzy of violence\" could be rephrased to avoid reinforcing stereotypes about Muslims, as such reactions are not representative of all Pakistani society. Incorporating diverse Muslim voices and highlighting reformative efforts within the community would provide a more balanced and nuanced understanding of the blasphemy discourse in Pakistan.'}]"
      ]
     },
     "execution_count": 6,
     "metadata": {},
     "output_type": "execute_result"
    }
   ],
   "source": [
    "factory.results['Case Studies']['Misrepresentation']"
   ]
  },
  {
   "cell_type": "markdown",
   "metadata": {},
   "source": [
    "#### 2.2. Negative Aspects and Behaviours"
   ]
  },
  {
   "cell_type": "code",
   "execution_count": 7,
   "metadata": {},
   "outputs": [
    {
     "data": {
      "text/plain": [
       "[{'title': \"Indonesia's Aceh whips men for sharia-banned gambling\",\n",
       "  'bullets': 'The article reports on the public flogging of men for gambling offences in Aceh, Indonesia, highlighting negative aspects of Islamic law and governance. This focus on punitive measures may reinforce stereotypes about Muslim-majority regions and the implementation of Sharia law, raising concerns about the portrayal of Islam in such contexts.  \\n\\nThe analysis reveals that the article predominantly highlights the harsh aspects of Sharia law in Aceh, citing specific punishments without adequately addressing the diversity of Islamic jurisprudence. This tendency to associate Islam mainly with punitive practices contributes to a negative perception of the faith, even as it occasionally mentions opposition to these practices.  \\n\\nFor example, the description of public flogging as a \"common punishment\" in a \"conservative Muslim\" province emphasises the severity of the enforcement of Sharia. Such characterisations potentially propagate negative stereotypes about Islam without providing sufficient context or acknowledging alternative interpretations within the faith, thus favouring a one-dimensional understanding of the subject.'},\n",
       " {'title': 'More than 150 children subject of court proceedings amid radicalisation fears',\n",
       "  'bullets': 'The article examines the challenges UK family courts face concerning children at risk of radicalisation, focusing on associations with extremist groups like Islamic State. While factual in nature, certain language and framing may perpetuate negative associations with Muslims and Islam, potentially impacting readers\\' perceptions of these communities.\\n\\nThe analysis indicates that the article frequently links Muslim identities to extremist actions, such as referencing \"a wave of women from Islamic State\" returning to the UK. This sort of language can come off as sensationalist and reinforce stereotypes without acknowledging the larger context or the majority of Muslims who reject such ideologies, leading to a skewed representation.\\n\\nFor example, phrases like \"the prospect of a wave of women\" could create an unwarranted sense of fear and generalisation, painting a negative picture of Muslims, especially Muslim women, without offering insights into the efforts within these communities to tackle extremism or highlighting their diverse voices. Including these perspectives would provide a more balanced understanding of the complexities surrounding radicalisation and its effects on society.'},\n",
       " {'title': 'Repression risks fuelling Egypt instability, analysts warn',\n",
       "  'bullets': 'The article examines the recent protests in Egypt and the government\\'s repressive actions in response. While it generally maintains a neutral tone, there are instances where the framing of Muslim-related content may raise concerns, particularly in relation to the portrayal of the Muslim Brotherhood and associated historical events.  \\n\\nThe analysis highlights that while the mentions of the Muslim Brotherhood serve to provide essential historical context, the negative framing—such as referencing the massacre of supporters—could reinforce negative perceptions of Islamist movements. The article\\'s focus remains primarily on political repression rather than specifically targeting Muslims or Islamic beliefs; however, the associations made could still carry implications for broader public perception.  \\n\\nFor example, stating that \"Egyptian troops killed around 800 Muslim Brotherhood supporters in a single day\" provides critical background but could inadvertently highlight violence associated with Muslims without offering a more rounded perspective on the movement\\'s complexities. Including additional context about the diversity of political opinions within the Muslim community would enhance the article\\'s balance and understanding of the situation.'},\n",
       " {'title': \"Cop made 'rape call' to Hanson-Young\",\n",
       "  'bullets': 'The article reports on a police officer\\'s threatening and sexually explicit comments directed at Senator Sarah Hanson-Young, including an Islamophobic reference. While it primarily focuses on the harassment incident, there is a concerning inclusion of a quote that inaccurately associates Islam with child sexual abuse, which could contribute to negative stereotypes of the religion.\\n\\nThe analysis reveals that the article features a quote presenting a harmful association between Islam and child sexual abuse without any context or criticism. This lack of contextualisation is problematic, as it risks reinforcing misconceptions about Islamic practices and promoting an inflammatory stereotype without sufficient journalistic justification regarding the main narrative of the police officer\\'s conduct.\\n\\nAn example of this problem is the quote, \"Do you know under Islam you can f*** nine-year-old girls?\" Its inclusion, despite being attributed to the offender, does not hold significant journalistic merit and detracts from the main story. Omitting this kind of inflammatory statement or providing an immediate counter-contextualisation would help prevent the amplification of harmful rhetoric and maintain a focus on the core issue of the officer\\'s inappropriate behaviour.'},\n",
       " {'title': 'Asia Bibi Pakistani Christian woman in limbo after blasphemy verdict',\n",
       "  'bullets': 'The article explores the case of Asia Bibi, a Pakistani Christian acquitted of blasphemy charges, focusing on the societal reactions within Pakistan. While striving for a balanced perspective, the piece still presents some negative associations with Islam and Muslims, particularly regarding the portrayal of hardline groups reacting to Bibi\\'s acquittal.\\n\\nThe analysis notes instances where these negative associations are evident, such as referencing \"Islamist hardliners\" calling for Bibi\\'s execution. While these mentions provide necessary context about the controversial blasphemy issue in Pakistan, they may inadvertently reinforce stereotypes about Islam being inherently violent. However, the article does attempt to present a balanced view by including counterpoints, such as those from religious scholars advocating for respect for the Supreme Court\\'s decision.\\n\\nFor instance, the description of blasphemy as \"massively inflammatory\" implies a widespread and uniform response among Muslims in Pakistan, which risks generalising the views of the entire Muslim population. Including more perspectives from moderate Muslims or noting ongoing reforms regarding blasphemy laws could enhance the narrative, providing a more nuanced understanding of the diverse opinions within the country on this pressing issue.'}]"
      ]
     },
     "execution_count": 7,
     "metadata": {},
     "output_type": "execute_result"
    }
   ],
   "source": [
    "factory.results['Case Studies']['Negative Behaviour']"
   ]
  },
  {
   "cell_type": "markdown",
   "metadata": {},
   "source": [
    "#### 2.3. Due Prominence"
   ]
  },
  {
   "cell_type": "code",
   "execution_count": 8,
   "metadata": {},
   "outputs": [
    {
     "data": {
      "text/plain": [
       "[{'title': \"Indonesia's Aceh whips men for sharia-banned gambling\",\n",
       "  'bullets': \"The article discusses the practice of public flogging for gambling offences in Aceh, Indonesia, under Islamic law. While it presents factual information, the reporting exhibits generalisations that may misrepresent Islam and overlook the diversity of interpretations within the faith, thus shaping readers' perceptions negatively.  \\n\\nThe analysis highlights that the article's generalisations risk leading audiences to perceive Aceh's practices as representative of all Muslims and Islamic teachings. Additionally, the piece lacks important context regarding the historical and political background that led to the implementation of Sharia law in Aceh, further compounding the potential for misunderstanding.  \\n\\nA notable example of this omission is the absence of voices from diverse segments of the Muslim community in Aceh or Indonesia who may oppose such punitive practices. This lack of representation can lead to a skewed perception, suggesting that the practices depicted are widely accepted within the broader Muslim population, rather than addressing the complexities involved.\"},\n",
       " {'title': 'More than 150 children subject of court proceedings amid radicalisation fears',\n",
       "  'bullets': \"The article addresses the difficulties that UK family courts face concerning children seen as at risk of radicalisation. Importantly, it outlines the challenges involved but suffers from generalisations about Muslims and Islam, along with notable omissions that may skew public perceptions of the issue.\\n\\nThe analysis points out that the article fails to incorporate perspectives from Muslim community leaders or experts on countering extremism, which could provide critical insights into the topic. Additionally, the lack of information on successful de-radicalisation programmes perpetuates a one-sided narrative, risking reinforcement of negative stereotypes about Muslims and their communities.\\n\\nFor instance, the absence of diverse Muslim perspectives, particularly those advocating for counter-radicalisation methods, limits the reader's understanding of the complexities surrounding radicalisation. Including these voices would present a more balanced perspective and reduce the risk of shaping a simplistic view of Muslim communities as solely associated with radicalisation issues.\"},\n",
       " {'title': 'Repression risks fuelling Egypt instability, analysts warn',\n",
       "  'bullets': \"The article examines recent protests in Egypt along with the government's repressive responses, raising concerns about potential instability. Although it attempts a balanced approach, there are instances of generalisation and omission of diverse Muslim perspectives that may influence how readers understand the political landscape in Egypt.\\n\\nThe analysis highlights that the article lacks sufficient coverage of varying Muslim viewpoints regarding the political situation, particularly in relation to groups like the Muslim Brotherhood. This omission leads to a limited representation of the complex political dynamics in Egypt, resulting in a superficial understanding of the diverse opinions among Muslims.\\n\\nFor instance, the article fails to provide meaningful context about the Muslim Brotherhood's ideology and its significance within Egyptian society, which could lead to an oversimplified view that does not account for the various beliefs and opinions held by different Muslim factions. Including such perspectives would create a more nuanced portrayal of the ongoing political unrest and its implications.\"},\n",
       " {'title': \"Cop made 'rape call' to Hanson-Young\",\n",
       "  'bullets': \"The article covers an offensive and threatening phone call made by a police officer to Senator Sarah Hanson-Young, which included an Islamophobic remark. Although factual in reporting the harassment incident, the article contains problematic quotes that misrepresent Islamic teachings, failing to provide necessary context to counter the offensive statements made.\\n\\nThe analysis indicates significant omissions in the article, particularly the lack of clarification that the officer's claims about Islam are false and offensive. Moreover, without context about Islamic teachings on marriage and age of consent, readers might mistakenly perceive the offensive remark as having some factual basis, thereby reinforcing harmful stereotypes.\\n\\nFor instance, the failure to include a clear statement correcting the officer's erroneous claim leaves a gap that allows Islamophobic sentiments to persist unchecked. Addressing this misinformation with accurate teachings from Islamic scholars would help mitigate the potential impact of such harmful rhetoric and provide a more balanced narrative regarding the incident.\"},\n",
       " {'title': 'Asia Bibi Pakistani Christian woman in limbo after blasphemy verdict',\n",
       "  'bullets': \"The article focuses on the case of Asia Bibi, a Pakistani Christian who was acquitted of blasphemy charges, alongside the societal reactions following the verdict. While it attempts a neutral portrayal, the piece contains some generalisations and lacks crucial context that may inadvertently reinforce stereotypes about Muslims and Islam.\\n\\nThe analysis identifies significant omissions, particularly regarding the historical context and application of blasphemy laws in Pakistan. The absence of perspectives from moderate Muslim scholars or human rights advocates limits the article's depth, hindering readers' understanding of the diversity of opinions on blasphemy laws and the complexities surrounding this sensitive issue.\\n\\nFor example, the lack of discussion about efforts by various Muslim leaders to reform blasphemy laws diminishes the portrayal of a multifaceted Muslim response to allegations of blasphemy. Including such insights would enhance the article’s balance, providing a fuller picture of the ongoing debates within Pakistani society regarding these laws and their implications.\"}]"
      ]
     },
     "execution_count": 8,
     "metadata": {},
     "output_type": "execute_result"
    }
   ],
   "source": [
    "factory.results['Case Studies']['Due Prominence']"
   ]
  },
  {
   "cell_type": "markdown",
   "metadata": {},
   "source": [
    "#### 2.4. Generalisation"
   ]
  },
  {
   "cell_type": "code",
   "execution_count": 9,
   "metadata": {},
   "outputs": [
    {
     "data": {
      "text/plain": [
       "[{'title': \"Indonesia's Aceh whips men for sharia-banned gambling\",\n",
       "  'bullets': 'The article reports on the public flogging of men in Aceh, Indonesia, for gambling offences under Islamic law, highlighting practices that could contribute to negative perceptions of Islam. While it provides factual information, the article includes generalisations that may misrepresent the diversity of Islamic beliefs and practices.  \\n\\nAnalysis shows that the article often generalises Aceh’s practices, suggesting they reflect all of Islam, which risks misleading readers about the broader context of Islamic teachings. The references to Aceh as a \"conservative Muslim province\" can contribute to stereotypes associating Islam with harsh punishments, failing to acknowledge the variety found within the faith across different regions.  \\n\\nFor example, by stating that Aceh is \"the only province in the world\\'s largest Muslim-majority country that imposes Islamic law,\" the article implies a monolithic view of Islamic law that does not account for differing interpretations within Indonesia and globally. Such generalisations can reinforce negative stereotypes and contribute to misunderstandings about Islam and Muslim communities.'},\n",
       " {'title': 'More than 150 children subject of court proceedings amid radicalisation fears',\n",
       "  'bullets': 'The article examines the challenges faced by UK family courts in addressing children at risk of radicalisation, underscoring the complexities involved. Although it presents important information, the article contains generalisations and potential misrepresentations of Muslims and Islam, which could skew public perception of these communities.\\n\\nThe analysis highlights that the article frequently connects the issue of radicalisation predominantly to Muslim individuals, with statements such as \"a wave of women from Islamic State returning to the UK.\" Such language risks framing the broader Muslim community as inherently linked to extremism, neglecting the fact that radicalisation impacts a small minority. \\n\\nFor instance, mentioning that 55% of analysed cases were linked to Al-Muhajiroun could lead readers to overgeneralise about all Muslims, perpetuating stereotypes rather than acknowledging the diverse perspectives within the community. The omission of Muslim voices and counter-narratives further compounds the potential for misunderstanding about the complexity and scale of radicalisation in the UK.'},\n",
       " {'title': 'Repression risks fuelling Egypt instability, analysts warn',\n",
       "  'bullets': 'The article addresses recent protests in Egypt and the government\\'s repressive measures, highlighting concerns about instability. While it attempts to offer a balanced perspective, there are instances of generalisation and omission that could influence readers\\' understanding of Muslims and Islam in the Egyptian context.\\n\\nThe analysis indicates that some generalisations, such as stating \"Egyptian troops killed around 800 Muslim Brotherhood supporters in a single day,\" risk oversimplifying the diverse nature of this group. While this information is relevant for historical context, it may inadvertently contribute to a monolithic portrayal of the Muslim Brotherhood and reinforce stereotypes regarding Islamist movements.\\n\\nFor example, by not including a range of perspectives regarding the Muslim Brotherhood, the article misses an opportunity to represent the nuances within Muslim opinions on the political unrest in Egypt. Offering insights from various Muslim voices and elaborating on the complexity of the political situation would provide a more comprehensive understanding of the diverse viewpoints in Egyptian society.'},\n",
       " {'title': \"Cop made 'rape call' to Hanson-Young\",\n",
       "  'bullets': 'The article reports on a police officer making a threatening phone call to Senator Sarah Hanson-Young, during which an Islamophobic remark was made. Although the article provides an account of the harassment incident, it includes a problematic quote that misrepresents Islamic teachings, leading to potential generalisations about the religion.\\n\\nThe analysis reveals that the article includes a harmful statement, \"Do you know under Islam you can f*** nine-year-old girls?\" This quote does provide insight into the nature of the call but lacks necessary context or correction, grossly misrepresenting Islamic teachings and potentially reinforcing negative stereotypes regarding child marriage within Islam.\\n\\nFor instance, the failure to clarify that the officer\\'s assertion is false and offensive allows the perpetuation of harmful generalisations that associate Islam with child abuse, without presenting a more accurate understanding of Islamic principles. Addressing such misinformation through context or expert commentary from Islamic scholars would enhance the article\\'s accuracy and mitigate harmful stereotypes about the religion and its followers.'},\n",
       " {'title': 'Asia Bibi Pakistani Christian woman in limbo after blasphemy verdict',\n",
       "  'bullets': 'The article addresses the case of Asia Bibi, a Christian woman in Pakistan acquitted of blasphemy charges, and discusses the societal reactions following her verdict. While the article strives for a balanced view, it contains generalisations that may reinforce negative stereotypes about Muslims and their beliefs, particularly concerning blasphemy issues.\\n\\nThe analysis points to a specific generalisation in the statement that \"blasphemy is a massively inflammatory issue in Muslim-majority Pakistan.\" While this statement emphasises the severe consequences of blasphemy accusations, it risks inaccurately depicting all Muslims in Pakistan as being uniformly violent or intolerant regarding religious accusations, rather than reflecting the complexity of the cultural and political landscape.\\n\\nFor instance, the description could lead readers to erroneously associate the issue of blasphemy directly with Islam as a whole, rather than understanding it as a multifaceted social issue unique to Pakistan. Providing more detailed context about the historical application of blasphemy laws and including diverse Muslim perspectives would enrich the narrative and mitigate potential misunderstandings about the broader Muslim community.'}]"
      ]
     },
     "execution_count": 9,
     "metadata": {},
     "output_type": "execute_result"
    }
   ],
   "source": [
    "factory.results['Case Studies']['Generalisation']"
   ]
  },
  {
   "cell_type": "markdown",
   "metadata": {},
   "source": [
    "#### 2.5. Headlines and Imagery"
   ]
  },
  {
   "cell_type": "code",
   "execution_count": 10,
   "metadata": {},
   "outputs": [
    {
     "data": {
      "text/plain": [
       "[{'title': \"Indonesia's Aceh whips men for sharia-banned gambling\",\n",
       "  'bullets': 'The article reports on the public flogging of men for gambling offences in Aceh, Indonesia, under Islamic law. While it outlines important facts, the headline may mislead readers into believing the practices reflect Islam as a whole or are common across Indonesia, thereby reinforcing potentially negative stereotypes about the religion and its followers.\\n\\nThe analysis identifies that the headline can be interpreted as implying that such practices are representative of Islam at large, rather than being specific to the Aceh province. This generalisation can misinform readers about the diversity of Islamic interpretations and practices, which are not uniformly punitive or harsh.\\n\\nFor example, the original headline, \"Indonesia\\'s Aceh whips men for sharia-banned gambling,\" lacks nuance and suggests a broader applicability of practices in Aceh to the entirety of Muslim communities. A revised headline, such as \"Men Publicly Flogged for Gambling in Indonesia\\'s Aceh Province,\" would present a clearer understanding of the specific context while avoiding misleading generalisations.'},\n",
       " {'title': \"'We're just doing what God told us' ISIS fanatic explains why he wants to kill Australians - as brave Aussie troops hold back the terror group in the Philippines\",\n",
       "  'bullets': 'The article covers the activities of ISIS in the Philippines and the response of Australian military forces, featuring quotes from an ISIS member that could generalise extremist views to the broader Muslim population. This framing risks misrepresenting the complex realities of Islamic beliefs and reinforcing negative stereotypes.\\n\\nThe analysis indicates that the article heavily focuses on the extremist ideology of ISIS without sufficiently distinguishing it from mainstream Islamic beliefs. The absence of context regarding the broader Muslim community can lead to the dangerous assumption that such extremist views represent a generalised sentiment among all Muslims, which is not the case.\\n\\nFor instance, the headline implies that Islamic teachings support violence against Australians, which is misleading. A more accurate headline, such as \"ISIS extremist claims divine justification for violence, as Australian troops aid Philippines,\" would better reflect the nature of the article while avoiding generalisation and potential misinterpretation of Islamic beliefs. Providing insights from Muslim leaders condemning such actions would further enhance the article\\'s balance and context.'},\n",
       " {'title': \"Council of Europe warns Britain sharia law conflicts with universal human rights and says it is 'greatly concerned' by its recognition in the UK\",\n",
       "  'bullets': 'The article addresses concerns raised by the Council of Europe regarding Sharia law in Britain, particularly how it may conflict with universal human rights. While providing factual information, the article includes generalisations and potential misrepresentations that could skew public perceptions of Islam and Muslims living in the UK.\\n\\nThe analysis shows that the article may overgeneralise the nature of Sharia law and its application, leading readers to misunderstand the specific role of Sharia councils within the UK. The headline itself is potentially misleading, suggesting that Sharia law has an official standing in the UK legal system, which is inaccurate and could foster negative sentiments towards the Muslim community.\\n\\nFor example, the current headline implies a significant legal recognition of Sharia law in Britain, whereas a more precise headline, such as \"Council of Europe raises concerns about Sharia councils\\' role in UK family matters,\" would better convey the article\\'s focus. Inclusion of diverse perspectives from Muslim leaders and legal experts could also help to contextualize the discussion and mitigate bias against Islamic practices and beliefs.'},\n",
       " {'title': \"Terror planner only backs 'good' al-Qaeda\",\n",
       "  'bullets': 'The article details Raban Alou\\'s court appearance aimed at reducing his sentence for his involvement in a terror attack. While the report is largely factual, it includes biased framing of Muslim-related content and lacks essential context, potentially perpetuating negative stereotypes surrounding Islam and Muslims.\\n\\nThe analysis highlights that the article focuses heavily on Alou\\'s comments regarding terrorist groups but does not provide sufficient context to clarify his statements. This lack of nuance, combined with the absence of diverse Muslim voices, can contribute to a skewed perception of the relationship between Islam and terrorism, reinforcing harmful stereotypes.\\n\\nFor example, the headline, \"Terror planner only backs \\'good\\' al-Qaeda,\" is sensationalist and misleading, oversimplifying Alou\\'s statements and suggesting a broader endorsement of terrorism among Muslims. A revised headline, such as \"Convicted terror planner seeks sentence reduction, claims changed views,\" would more accurately represent the content of the article and mitigate potential misinterpretations regarding Islamic beliefs and the Muslim community as a whole. Including perspectives from mainstream Muslim leaders would further enrich the discussion and provide balance.'},\n",
       " {'title': \"'Something's wrong here' Broadcaster Alan Jones slams security agencies for failing to stop Melbourne terrorist - despite spending millions monitoring extremists on watch list\",\n",
       "  'bullets': 'The article reports on broadcaster Alan Jones\\' critique of Australian security agencies in light of a terrorist attack in Melbourne. While focusing on the issue of security and agency effectiveness, the article employs language and framing that could lead to problematic generalisations about Muslims and Islam.\\n\\nThe analysis indicates that the article includes generalisations and potentially biased language, particularly in the characterization of Muslims and Islamic organisations. Terms such as \"hardline Muslim leader\" and \"emir\" may misrepresent the broader Muslim community, while the piece lacks diverse perspectives from Muslim voices, leading to a one-dimensional portrayal of the issue.\\n\\nFor instance, the headline, while highlighting security failures, could lead readers to associate the term \"terrorist\" specifically with Muslim extremists. A more balanced headline, like \"Alan Jones criticizes security agencies\\' effectiveness despite high spending,\" would avoid implicating the Muslim community unnecessarily and provide a clearer focus on the accountability of security agencies. Including views from mainstream Muslim community leaders would further enhance the article\\'s balance and reduce the risk of perpetuating stereotypes.'}]"
      ]
     },
     "execution_count": 10,
     "metadata": {},
     "output_type": "execute_result"
    }
   ],
   "source": [
    "factory.results['Case Studies']['Imagery and Headlines']"
   ]
  },
  {
   "cell_type": "markdown",
   "metadata": {},
   "source": [
    "### 3. **Publisher Performance Overview**"
   ]
  },
  {
   "cell_type": "code",
   "execution_count": 11,
   "metadata": {},
   "outputs": [
    {
     "data": {
      "text/plain": [
       "{'bias_rating': {'title': 'Distribution of Bias Ratings',\n",
       "  'chart_title': '151 articles from the Daily Mail are \"Biased\" or \"Very Biased\"',\n",
       "  'chart_filepath': 'tmp/bias_rating.png',\n",
       "  'bullets': ''},\n",
       " 'bias_category': {'title': 'Distribution of Bias Categories',\n",
       "  'chart_title': \"Misrepresentation is the publisher's most commited bias catergory\",\n",
       "  'chart_filepath': 'tmp/bias_category.png',\n",
       "  'bullets': ''},\n",
       " 'bias_rating_vs_topics': {'title': 'Distribution of Bias Ratings vs Topics',\n",
       "  'chart_title': 'Crimes and Arrests has the highest number of Biased articles',\n",
       "  'chart_filepath': 'tmp/bias_rating_vs_topics.png',\n",
       "  'bullets': ''},\n",
       " 'bias_category_vs_topics': {'title': 'Distribution of Bias Categories vs Topics',\n",
       "  'chart_title': 'Generalisation is the most common bias committed in articles about Crimes And Arrests',\n",
       "  'chart_filepath': 'tmp/bias_category_vs_topics.png',\n",
       "  'bullets': ''}}"
      ]
     },
     "execution_count": 11,
     "metadata": {},
     "output_type": "execute_result"
    }
   ],
   "source": [
    "factory.results['Publisher Performance Overview']"
   ]
  },
  {
   "cell_type": "markdown",
   "metadata": {},
   "source": [
    "### 4. **Publisher Comparison**"
   ]
  },
  {
   "cell_type": "code",
   "execution_count": 12,
   "metadata": {},
   "outputs": [
    {
     "data": {
      "text/plain": [
       "{'bias_rating_comparison': {'title': 'Bias Rating Comparison',\n",
       "  'chart_title': 'Daily Mail published 151 biased articles compared to 44 from other publishers',\n",
       "  'chart_filepath': 'tmp/bias_rating_comparison.png',\n",
       "  'bullets': ''},\n",
       " 'bias_category_comparison': {'title': 'Bias Category Comparison',\n",
       "  'chart_title': 'Daily Mail has the highest tendency to commit Misrepresentation',\n",
       "  'chart_filepath': 'tmp/bias_category_comparison.png',\n",
       "  'bullets': ''}}"
      ]
     },
     "execution_count": 12,
     "metadata": {},
     "output_type": "execute_result"
    }
   ],
   "source": [
    "factory.results['Publisher Comparison']"
   ]
  },
  {
   "cell_type": "markdown",
   "metadata": {},
   "source": [
    "### 5. **Conclusions**"
   ]
  },
  {
   "cell_type": "code",
   "execution_count": 13,
   "metadata": {},
   "outputs": [
    {
     "data": {
      "text/plain": [
       "{'title': 'Conclusions', 'text': ''}"
      ]
     },
     "execution_count": 13,
     "metadata": {},
     "output_type": "execute_result"
    }
   ],
   "source": [
    "factory.results['Conclusions']"
   ]
  },
  {
   "cell_type": "markdown",
   "metadata": {},
   "source": [
    "### 6. **Key Findings**"
   ]
  },
  {
   "cell_type": "code",
   "execution_count": 14,
   "metadata": {},
   "outputs": [
    {
     "data": {
      "text/plain": [
       "{'title': 'Key Findings', 'text': ''}"
      ]
     },
     "execution_count": 14,
     "metadata": {},
     "output_type": "execute_result"
    }
   ],
   "source": [
    "factory.results['Key Findings']"
   ]
  },
  {
   "cell_type": "code",
   "execution_count": null,
   "metadata": {},
   "outputs": [],
   "source": []
  }
 ],
 "metadata": {
  "kernelspec": {
   "display_name": "Python 3",
   "language": "python",
   "name": "python3"
  },
  "language_info": {
   "codemirror_mode": {
    "name": "ipython",
    "version": 3
   },
   "file_extension": ".py",
   "mimetype": "text/x-python",
   "name": "python",
   "nbconvert_exporter": "python",
   "pygments_lexer": "ipython3",
   "version": "3.9.2"
  }
 },
 "nbformat": 4,
 "nbformat_minor": 2
}
