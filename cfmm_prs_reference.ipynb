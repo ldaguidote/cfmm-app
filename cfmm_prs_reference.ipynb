{
  "nbformat": 4,
  "nbformat_minor": 0,
  "metadata": {
    "colab": {
      "provenance": []
    },
    "kernelspec": {
      "name": "python3",
      "display_name": "Python 3"
    },
    "language_info": {
      "name": "python"
    }
  },
  "cells": [
    {
      "cell_type": "code",
      "source": [
        "!pip install plotnine==0.14.0\n",
        "!pip install adjustText\n",
        "!pip install python-pptx"
      ],
      "metadata": {
        "colab": {
          "base_uri": "https://localhost:8080/"
        },
        "id": "pVHf3EaovHIg",
        "outputId": "f3b74953-bfea-4d1d-e5b3-7be871857177"
      },
      "execution_count": 1,
      "outputs": [
        {
          "output_type": "stream",
          "name": "stdout",
          "text": [
            "Requirement already satisfied: plotnine==0.14.0 in /usr/local/lib/python3.10/dist-packages (0.14.0)\n",
            "Requirement already satisfied: matplotlib>=3.8.0 in /usr/local/lib/python3.10/dist-packages (from plotnine==0.14.0) (3.8.0)\n",
            "Requirement already satisfied: pandas>=2.2.0 in /usr/local/lib/python3.10/dist-packages (from plotnine==0.14.0) (2.2.2)\n",
            "Requirement already satisfied: mizani~=0.13.0 in /usr/local/lib/python3.10/dist-packages (from plotnine==0.14.0) (0.13.1)\n",
            "Requirement already satisfied: numpy>=1.23.5 in /usr/local/lib/python3.10/dist-packages (from plotnine==0.14.0) (1.26.4)\n",
            "Requirement already satisfied: scipy>=1.8.0 in /usr/local/lib/python3.10/dist-packages (from plotnine==0.14.0) (1.13.1)\n",
            "Requirement already satisfied: statsmodels>=0.14.0 in /usr/local/lib/python3.10/dist-packages (from plotnine==0.14.0) (0.14.4)\n",
            "Requirement already satisfied: contourpy>=1.0.1 in /usr/local/lib/python3.10/dist-packages (from matplotlib>=3.8.0->plotnine==0.14.0) (1.3.1)\n",
            "Requirement already satisfied: cycler>=0.10 in /usr/local/lib/python3.10/dist-packages (from matplotlib>=3.8.0->plotnine==0.14.0) (0.12.1)\n",
            "Requirement already satisfied: fonttools>=4.22.0 in /usr/local/lib/python3.10/dist-packages (from matplotlib>=3.8.0->plotnine==0.14.0) (4.55.3)\n",
            "Requirement already satisfied: kiwisolver>=1.0.1 in /usr/local/lib/python3.10/dist-packages (from matplotlib>=3.8.0->plotnine==0.14.0) (1.4.7)\n",
            "Requirement already satisfied: packaging>=20.0 in /usr/local/lib/python3.10/dist-packages (from matplotlib>=3.8.0->plotnine==0.14.0) (24.2)\n",
            "Requirement already satisfied: pillow>=6.2.0 in /usr/local/lib/python3.10/dist-packages (from matplotlib>=3.8.0->plotnine==0.14.0) (11.0.0)\n",
            "Requirement already satisfied: pyparsing>=2.3.1 in /usr/local/lib/python3.10/dist-packages (from matplotlib>=3.8.0->plotnine==0.14.0) (3.2.0)\n",
            "Requirement already satisfied: python-dateutil>=2.7 in /usr/local/lib/python3.10/dist-packages (from matplotlib>=3.8.0->plotnine==0.14.0) (2.8.2)\n",
            "Requirement already satisfied: pytz>=2020.1 in /usr/local/lib/python3.10/dist-packages (from pandas>=2.2.0->plotnine==0.14.0) (2024.2)\n",
            "Requirement already satisfied: tzdata>=2022.7 in /usr/local/lib/python3.10/dist-packages (from pandas>=2.2.0->plotnine==0.14.0) (2024.2)\n",
            "Requirement already satisfied: patsy>=0.5.6 in /usr/local/lib/python3.10/dist-packages (from statsmodels>=0.14.0->plotnine==0.14.0) (1.0.1)\n",
            "Requirement already satisfied: six>=1.5 in /usr/local/lib/python3.10/dist-packages (from python-dateutil>=2.7->matplotlib>=3.8.0->plotnine==0.14.0) (1.17.0)\n",
            "Requirement already satisfied: adjustText in /usr/local/lib/python3.10/dist-packages (1.3.0)\n",
            "Requirement already satisfied: numpy in /usr/local/lib/python3.10/dist-packages (from adjustText) (1.26.4)\n",
            "Requirement already satisfied: matplotlib in /usr/local/lib/python3.10/dist-packages (from adjustText) (3.8.0)\n",
            "Requirement already satisfied: scipy in /usr/local/lib/python3.10/dist-packages (from adjustText) (1.13.1)\n",
            "Requirement already satisfied: contourpy>=1.0.1 in /usr/local/lib/python3.10/dist-packages (from matplotlib->adjustText) (1.3.1)\n",
            "Requirement already satisfied: cycler>=0.10 in /usr/local/lib/python3.10/dist-packages (from matplotlib->adjustText) (0.12.1)\n",
            "Requirement already satisfied: fonttools>=4.22.0 in /usr/local/lib/python3.10/dist-packages (from matplotlib->adjustText) (4.55.3)\n",
            "Requirement already satisfied: kiwisolver>=1.0.1 in /usr/local/lib/python3.10/dist-packages (from matplotlib->adjustText) (1.4.7)\n",
            "Requirement already satisfied: packaging>=20.0 in /usr/local/lib/python3.10/dist-packages (from matplotlib->adjustText) (24.2)\n",
            "Requirement already satisfied: pillow>=6.2.0 in /usr/local/lib/python3.10/dist-packages (from matplotlib->adjustText) (11.0.0)\n",
            "Requirement already satisfied: pyparsing>=2.3.1 in /usr/local/lib/python3.10/dist-packages (from matplotlib->adjustText) (3.2.0)\n",
            "Requirement already satisfied: python-dateutil>=2.7 in /usr/local/lib/python3.10/dist-packages (from matplotlib->adjustText) (2.8.2)\n",
            "Requirement already satisfied: six>=1.5 in /usr/local/lib/python3.10/dist-packages (from python-dateutil>=2.7->matplotlib->adjustText) (1.17.0)\n",
            "Requirement already satisfied: python-pptx in /usr/local/lib/python3.10/dist-packages (1.0.2)\n",
            "Requirement already satisfied: Pillow>=3.3.2 in /usr/local/lib/python3.10/dist-packages (from python-pptx) (11.0.0)\n",
            "Requirement already satisfied: XlsxWriter>=0.5.7 in /usr/local/lib/python3.10/dist-packages (from python-pptx) (3.2.0)\n",
            "Requirement already satisfied: lxml>=3.1.0 in /usr/local/lib/python3.10/dist-packages (from python-pptx) (5.3.0)\n",
            "Requirement already satisfied: typing-extensions>=4.9.0 in /usr/local/lib/python3.10/dist-packages (from python-pptx) (4.12.2)\n"
          ]
        }
      ]
    },
    {
      "cell_type": "code",
      "execution_count": 2,
      "metadata": {
        "id": "g8B9W3MktiLK"
      },
      "outputs": [],
      "source": [
        "from prs_generator.generator import Prs\n",
        "from datetime import date\n",
        "import json"
      ]
    },
    {
      "cell_type": "markdown",
      "source": [
        "# Demo"
      ],
      "metadata": {
        "id": "9mgHQUnvtnxO"
      }
    },
    {
      "cell_type": "code",
      "source": [
        "factory_dict = {\n",
        "    'Methodology': {\n",
        "        'title': 'Methodology',\n",
        "        'text': 'Paragraph'\n",
        "    },\n",
        "\n",
        "    'Key Findings': {\n",
        "        'title': 'Key Findings',\n",
        "        'bullets': 'Bullet 1 \\n Bullet 2 \\n Bullet 3'\n",
        "    },\n",
        "\n",
        "    'Publisher Performance': {\n",
        "        'Final Bias Rating': {\n",
        "            'title': 'Slide Title',\n",
        "            'chart_title': 'Chart Title',\n",
        "            'chart_filepath': 'prs-demo-files/bar_chart_bias_rating.png',\n",
        "            'bullets': 'Bullet 1 \\n Bullet 2 \\n Bullet 3'\n",
        "        },\n",
        "        'Bias Category': {\n",
        "            'title': 'Slide Title',\n",
        "            'chart_title': 'Chart Title',\n",
        "            'chart_filepath': 'prs-demo-files/bar_chart_bias_category.png',\n",
        "            'bullets': 'Bullet 1 \\n Bullet 2 \\n Bullet 3'\n",
        "        },\n",
        "        'Topics vs. Final Bias Rating': {\n",
        "            'title': 'Slide Title',\n",
        "            'chart_title': 'Chart Title',\n",
        "            'chart_filepath': 'prs-demo-files/heatmap_topic_bias_rating.png',\n",
        "            'bullets': 'Bullet 1 \\n Bullet 2 \\n Bullet 3'\n",
        "        },\n",
        "    },\n",
        "\n",
        "    'Publisher Comparison': {\n",
        "        'Tendency to Commit Bias': {\n",
        "            'title': 'Slide Title',\n",
        "            'chart_title': 'Chart Title',\n",
        "            'chart_filepath': 'prs-demo-files/odds_bias_rating.png',\n",
        "            'bullets': 'Bullet 1 \\n Bullet 2 \\n Bullet 3'\n",
        "        },\n",
        "    },\n",
        "\n",
        "    'Use Cases': {\n",
        "        'Very Biased': {\n",
        "            'title': 'Article Title',\n",
        "            'bullets': 'Bullet 1 \\n Bullet 2 \\n Bullet 3'\n",
        "        }\n",
        "    },\n",
        "\n",
        "    'Conclusion': {\n",
        "        'title': 'Conclusion',\n",
        "        'bullets': 'Bullet 1 \\n Bullet 2 \\n Bullet 3'\n",
        "    }\n",
        "}\n",
        "factory_json = json.dumps(factory_dict)\n",
        "\n",
        "placeholder_dict = {\n",
        "    'Title': {\n",
        "        'title': 'Briefing Pack for BBC',\n",
        "        'subtitle': 'Placeholder subtitle'\n",
        "    },\n",
        "    'Introduction': {\n",
        "        'title': 'Introduction',\n",
        "        'text': 'Placeholder text'\n",
        "    },\n",
        "    'Recommendations': {\n",
        "        'title': 'Recommendations',\n",
        "        'bullets': 'Bullet 1 \\n Bullet 2 \\n Bullet 3'\n",
        "    }\n",
        "}\n",
        "placeholder_json = json.dumps(placeholder_dict)"
      ],
      "metadata": {
        "id": "esrVS52av8A7"
      },
      "execution_count": 3,
      "outputs": []
    },
    {
      "cell_type": "code",
      "source": [
        "# Two ways to add a slide:\n",
        "prs = Prs('template.pptx', factory_json, placeholder_json)\n",
        "\n",
        "# (1) Use the json string during initialization. Please follow correct key (see\n",
        "# col A in Excel file).\n",
        "prs.add_Title_section(use_json=True)\n",
        "\n",
        "# (2) Custom title and text\n",
        "title = 'Title'\n",
        "subtitle = 'This used custom title and subtitle.'\n",
        "prs.add_Title_section(title, subtitle)\n",
        "\n",
        "prs.save('tmp.pptx')"
      ],
      "metadata": {
        "id": "7PdGI5tMwAED"
      },
      "execution_count": 4,
      "outputs": []
    },
    {
      "cell_type": "markdown",
      "source": [
        "# MVP"
      ],
      "metadata": {
        "id": "NXjMp7iZv-GB"
      }
    },
    {
      "cell_type": "code",
      "source": [
        "# factory_json will come from LAG\n",
        "prs = Prs('template.pptx', factory_json)\n",
        "\n",
        "# Title section ======================================================= #\n",
        "title = 'Briefing Pack for BBC'\n",
        "subtitle = date.today().strftime(\"%B %d, %Y\")\n",
        "prs.add_Title_section(title, subtitle)\n",
        "\n",
        "# Introduction section ======================================================== #\n",
        "title = 'Introduction'\n",
        "text = 'Placeholder text'\n",
        "prs.add_Introduction_section(title, text)\n",
        "\n",
        "# Methodology (needs Methodology json) ==================================== #\n",
        "prs.add_Methodology_section(use_json=True)\n",
        "\n",
        "# Key Findings (needs Key Findings json) ============================== #\n",
        "prs.add_KeyFindings_section(use_json=True)\n",
        "\n",
        "# Publisher Performance (needs Publisher Performance json) === #\n",
        "prs.add_PublisherPerformance_section(use_json=True)\n",
        "\n",
        "# Publisher Comparison (needs Publisher Comparison json) === #\n",
        "prs.add_PublisherComparison_section(use_json=True)\n",
        "\n",
        "# Conclusion (needs Publisher Comparison json) === #\n",
        "prs.add_Conclusion_section(use_json=True)\n",
        "\n",
        "# Recommendations  === #\n",
        "title = 'Recommendations'\n",
        "bullets = 'Placeholder text'\n",
        "prs.add_Recommendations_section(title, bullets)\n",
        "\n",
        "prs.save('tmp.pptx')"
      ],
      "metadata": {
        "id": "HJwogq4iv8t9"
      },
      "execution_count": 5,
      "outputs": []
    },
    {
      "cell_type": "markdown",
      "source": [
        "# IGNORE"
      ],
      "metadata": {
        "id": "-q1LOydUBs_z"
      }
    },
    {
      "cell_type": "code",
      "source": [
        "!git clone https://github.com/ldaguidote/cfmm-app.git"
      ],
      "metadata": {
        "colab": {
          "base_uri": "https://localhost:8080/"
        },
        "id": "MPtZJYdD_Mpx",
        "outputId": "2ee3bb8a-8ea6-42cd-c026-45a2dcb0703d"
      },
      "execution_count": 6,
      "outputs": [
        {
          "output_type": "stream",
          "name": "stdout",
          "text": [
            "Cloning into 'cfmm-app'...\n",
            "remote: Enumerating objects: 69, done.\u001b[K\n",
            "remote: Counting objects: 100% (69/69), done.\u001b[K\n",
            "remote: Compressing objects: 100% (50/50), done.\u001b[K\n",
            "remote: Total 69 (delta 24), reused 52 (delta 12), pack-reused 0 (from 0)\u001b[K\n",
            "Receiving objects: 100% (69/69), 933.05 KiB | 2.67 MiB/s, done.\n",
            "Resolving deltas: 100% (24/24), done.\n"
          ]
        }
      ]
    },
    {
      "cell_type": "code",
      "source": [
        "%cd /content/cfmm-app"
      ],
      "metadata": {
        "colab": {
          "base_uri": "https://localhost:8080/"
        },
        "id": "duXvIpAyBPc4",
        "outputId": "99586aec-6194-4bcb-f45e-8c7576e23a2c"
      },
      "execution_count": 13,
      "outputs": [
        {
          "output_type": "stream",
          "name": "stdout",
          "text": [
            "/content/cfmm-app\n"
          ]
        }
      ]
    },
    {
      "cell_type": "code",
      "source": [
        "!pwd"
      ],
      "metadata": {
        "colab": {
          "base_uri": "https://localhost:8080/"
        },
        "id": "EBNWql5eBh48",
        "outputId": "a7392346-d7b9-4e83-fa74-e832e67a88db"
      },
      "execution_count": 14,
      "outputs": [
        {
          "output_type": "stream",
          "name": "stdout",
          "text": [
            "/content/cfmm-app\n"
          ]
        }
      ]
    },
    {
      "cell_type": "code",
      "source": [
        "!git status"
      ],
      "metadata": {
        "colab": {
          "base_uri": "https://localhost:8080/"
        },
        "id": "tj_vuEgSBqR8",
        "outputId": "b5231a79-2c5d-48a8-9559-9813a0df5720"
      },
      "execution_count": 15,
      "outputs": [
        {
          "output_type": "stream",
          "name": "stdout",
          "text": [
            "On branch main\n",
            "Your branch is up to date with 'origin/main'.\n",
            "\n",
            "Untracked files:\n",
            "  (use \"git add <file>...\" to include in what will be committed)\n",
            "\t\u001b[31mprs-demo-files/\u001b[m\n",
            "\t\u001b[31mprs_generator/\u001b[m\n",
            "\n",
            "nothing added to commit but untracked files present (use \"git add\" to track)\n"
          ]
        }
      ]
    }
  ]
}